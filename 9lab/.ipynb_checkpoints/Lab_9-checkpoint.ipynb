{
 "cells": [
  {
   "cell_type": "markdown",
   "metadata": {
    "deletable": false,
    "editable": false,
    "nbgrader": {
     "cell_type": "markdown",
     "checksum": "3a2d69266e438dc5ff367df299a78730",
     "grade": false,
     "grade_id": "cell-cad022ce18ee41e4",
     "locked": true,
     "schema_version": 3,
     "solution": false,
     "task": false
    }
   },
   "source": [
    "# Lab 9: Audio Classification "
   ]
  },
  {
   "cell_type": "code",
   "execution_count": 1,
   "metadata": {},
   "outputs": [],
   "source": [
    "# IMPORTS\n",
    "import numpy as np\n",
    "from matplotlib import pyplot as plt\n",
    "from scipy.io.wavfile import read, write\n",
    "from scipy.signal import hann\n",
    "import os\n",
    "import random\n",
    "import copy\n",
    "from sklearn.mixture import GaussianMixture as GMM\n",
    "from librosa import load\n",
    "from librosa.feature import mfcc\n",
    "\n",
    "# SOUNDPLAYER FUNCTION\n",
    "def sound( x, rate=44100, label=''):\n",
    "    from IPython.display import display, Audio, HTML\n",
    "    if label is '':\n",
    "        display( Audio( x, rate=rate))\n",
    "    else:\n",
    "        display( HTML( \n",
    "        '<style> table, th, td {border: 0px; }</style> <table><tr><td>' + label + \n",
    "        '</td><td>' + Audio( x, rate=rate)._repr_html_()[3:] + '</td></tr></table>'\n",
    "        ))"
   ]
  },
  {
   "cell_type": "code",
   "execution_count": 2,
   "metadata": {},
   "outputs": [],
   "source": [
    "# STFT FUNCTION\n",
    "dft_size_dflt = 1024\n",
    "hop_size_dflt = 256\n",
    "def stft( input_sound, numb_bins=0, dft_size=dft_size_dflt, hop_size=hop_size_dflt, window=0):\n",
    "    if (numb_bins==0):\n",
    "        numb_bins=dft_size//2+1\n",
    "    if (window==0):\n",
    "        window=hann(dft_size)\n",
    "    if (input_sound.size%hop_size) != 0:\n",
    "        input_sound = np.pad(input_sound, (0, hop_size-(input_sound.size%hop_size))) # pad input to hop size so last frame is full\n",
    "    f = np.zeros(numb_bins) # initial matrix column\n",
    "    current = 0\n",
    "    while current <= (input_sound.size-dft_size):\n",
    "        arg = input_sound[current:current+dft_size]\n",
    "        dft = np.fft.rfft(window*arg, (numb_bins-1)*2)\n",
    "        f = np.column_stack((f, dft))\n",
    "        current += hop_size\n",
    "    return f[:, 1:] # complex-valued spectrogram - frequencies(rows) x time(columns)"
   ]
  },
  {
   "cell_type": "code",
   "execution_count": 3,
   "metadata": {},
   "outputs": [],
   "source": [
    "# ISTFT FUNCTION\n",
    "def istft( stft_output, dft_size=dft_size_dflt, hop_size=hop_size_dflt):\n",
    "    numb_bins = stft_output.shape[0] # number of frequency bins in spectrogram\n",
    "    numb_dft = stft_output.shape[1] # number of dft slices in spectrogram\n",
    "    f = np.zeros((numb_bins-1)*2 + (numb_dft-1)*hop_size) # output array\n",
    "    current = 0\n",
    "    while current < (numb_dft):\n",
    "        arg = stft_output[:, current]\n",
    "        idft = np.fft.irfft(arg)\n",
    "        f[current*hop_size : current*hop_size + idft.size] += idft\n",
    "        current+=1\n",
    "    return f[:dft_size+(numb_dft-1)*hop_size] # real-valued array of audio samples in time-domain"
   ]
  },
  {
   "cell_type": "markdown",
   "metadata": {
    "deletable": false,
    "editable": false,
    "nbgrader": {
     "cell_type": "markdown",
     "checksum": "b455130b72ffb37275f09743824b7b93",
     "grade": false,
     "grade_id": "cell-de39fbc2436b23e5",
     "locked": true,
     "schema_version": 3,
     "solution": false,
     "task": false
    }
   },
   "source": [
    "## Part 1: Making a speech detector"
   ]
  },
  {
   "cell_type": "markdown",
   "metadata": {
    "deletable": false,
    "editable": false,
    "nbgrader": {
     "cell_type": "markdown",
     "checksum": "8e6bdc6e62576f57eebd1cbeb704ef88",
     "grade": false,
     "grade_id": "cell-2aa6f72c371ee5fd",
     "locked": true,
     "schema_version": 3,
     "solution": false,
     "task": false
    }
   },
   "source": [
    "In this section we will design a simple classifier that will let us know if its input is speech or non-speech. Download the data archive from: [ https://drive.google.com/file/d/1oAnvk-hzzgzZ4di4W0pKw6v3IWLm9u2X/view?usp=sharing ] In this part we will use the dataset in data/SpeechMusic. In it you will find two directories, speech/ and music/ containing data from each class.\n",
    "\n",
    "Randomly select 50 soundfiles from each directory to use as training data, and use the remaining sounds as testing data. For all of the sounds we will compute a representation that makes the classification easier and we will use a simple Gaussian model to classify them. Do the following:\n",
    "\n",
    "- Perform an STFT for each sound, take it’s magnitude and raise it to 0.3 to improve contrast\n",
    "    - We will consider each spctral slice of that to be a data point\n",
    "- Using the training data of each sound:\n",
    "    - Calculate the mean column and the diagonal covariance of the columns\n",
    "    - You will thus get two sets of Gaussian parameters that model each sound class\n",
    "- For each testing data point:\n",
    "    - Calculate the likelihood of each column based on the above models\n",
    "\t- To calculate the entire file likelihood add all the frame likelihoods\n",
    "\t- Assign each soundfile to the class that gets the highest likelihood\n",
    "\n",
    "For extra credit implement the parameter estimation and model likelihood yourself. If you are too lazy for that you can instead use ```sklearn.mixture.GaussianMixture``` to learn a diagonal single-Gaussian model per class.\n",
    "\n",
    "How do the results look like? If you rerun this with a different training/testing set, is there an appreciable difference? On average over multiple training/testing sets what accuracy do you get?"
   ]
  },
  {
   "cell_type": "code",
   "execution_count": 4,
   "metadata": {},
   "outputs": [],
   "source": [
    "# learning about generators\n",
    "#gen = os.walk('data/SpeechMusic/')\n",
    "#print(gen)\n",
    "#print(next(gen))\n",
    "#print(next(gen))\n",
    "#print(next(gen))"
   ]
  },
  {
   "cell_type": "code",
   "execution_count": 5,
   "metadata": {
    "deletable": false,
    "nbgrader": {
     "cell_type": "code",
     "checksum": "d5d414603227ac878e0dd7d54775eca6",
     "grade": true,
     "grade_id": "cell-fd9d89ff0ddb0ec1",
     "locked": false,
     "points": 3,
     "schema_version": 3,
     "solution": true,
     "task": false
    }
   },
   "outputs": [],
   "source": [
    "# LOAD SPEECH/MUSIC\n",
    "music_sr = np.empty(0)\n",
    "music = []\n",
    "for root, sub, files in os.walk('data/SpeechMusic/music/'):\n",
    "    for f in files:\n",
    "        sr, x = read(os.path.join(root, f))\n",
    "        music_sr = np.append(music_sr, sr)\n",
    "        music.append(x)\n",
    "#print('music', music_sr.shape, len(music))\n",
    "\n",
    "speech_sr = np.empty(0)\n",
    "speech = []\n",
    "for root, sub, files in os.walk('data/SpeechMusic/speech/'):\n",
    "    for f in files:\n",
    "        sr, x = read(os.path.join(root, f))\n",
    "        speech_sr = np.append(speech_sr, sr)\n",
    "        speech.append(x)\n",
    "#print('speech', speech_sr.shape, len(speech))"
   ]
  },
  {
   "cell_type": "code",
   "execution_count": 6,
   "metadata": {},
   "outputs": [],
   "source": [
    "# SAMPLE RATES\n",
    "#print(music_sr)\n",
    "#print(speech_sr)\n",
    "sr = 22050"
   ]
  },
  {
   "cell_type": "code",
   "execution_count": 7,
   "metadata": {},
   "outputs": [
    {
     "name": "stdout",
     "output_type": "stream",
     "text": [
      "1 2 3 4 5 6 7 8 9 10 11 12 13 14 15 16 17 18 19 20 21 22 23 24 25 26 27 28 29 30 31 32 33 34 35 36 37 38 39 40 41 42 43 44 45 46 47 48 49 50 51 52 53 54 55 56 57 58 59 60 61 62 63 64 65 66 67 68 69 70 71 72 73 74 75 76 77 78 79 80 81 82 83 84 85 86 87 88 89 90 91 92 93 94 95 96 97 98 99 100 101 102 103 104 105 106 107 108 109 110 111 112 113 114 115 116 117 118 119 120 "
     ]
    }
   ],
   "source": [
    "# STFT\n",
    "exec_cnt = 0\n",
    "\n",
    "music_stft = []\n",
    "for i in range(len(music)):\n",
    "    f = stft(music[i])\n",
    "    music_stft.append(f)\n",
    "    exec_cnt+=1\n",
    "    print(exec_cnt, end=' ')\n",
    "\n",
    "speech_stft = []\n",
    "for i in range(len(speech)):\n",
    "    f = stft(speech[i])\n",
    "    speech_stft.append(f)\n",
    "    exec_cnt+=1\n",
    "    print(exec_cnt, end=' ')\n",
    "\n",
    "#print()\n",
    "#print('music', len(music_stft), music_stft[0].shape)\n",
    "#print('speech', len(speech_stft), speech_stft[0].shape)"
   ]
  },
  {
   "cell_type": "code",
   "execution_count": 8,
   "metadata": {},
   "outputs": [],
   "source": [
    "# learning about shallow/deep copy\n",
    "# run one test at a time. reload between tests\n",
    "\n",
    "# test 1\n",
    "#sc1 = music_stft # sc1 points to data that music_stft points to\n",
    "#music_stft = [0,0] # music_stft points to new data\n",
    "#print(len(music_stft_save)) # references save data\n",
    "#print(len(music_stft)) # references new data\n",
    "#print(len(sc1)) # still references old data\n",
    "\n",
    "# test 2\n",
    "#sc2 = music_stft # sc2 points to data that music_stft points to\n",
    "#music_stft[0] *= 2 # modifies data\n",
    "#print(music_stft_save[0][0, 100]) # references save data\n",
    "#print(music_stft[0][0, 100]) # references modified data\n",
    "#print(sc2[0][0, 100]) # references same modified data"
   ]
  },
  {
   "cell_type": "code",
   "execution_count": 9,
   "metadata": {},
   "outputs": [],
   "source": [
    "# SAVE\n",
    "#music_stft_save = copy.deepcopy(music_stft)\n",
    "#speech_stft_save = copy.deepcopy(speech_stft)\n",
    "\n",
    "# RELOAD\n",
    "#music_stft = copy.deepcopy(music_stft_save)\n",
    "#speech_stft = copy.deepcopy(speech_stft_save)"
   ]
  },
  {
   "cell_type": "code",
   "execution_count": 10,
   "metadata": {},
   "outputs": [],
   "source": [
    "# RANDOMIZE ORDERING OF DATA\n",
    "m_shuff = list(zip(music, music_stft))\n",
    "random.shuffle(m_shuff)\n",
    "music, music_stft = zip(*m_shuff)\n",
    "music = list(music)\n",
    "music_stft = list(music_stft)\n",
    "#print(len(music), len(music_stft))\n",
    "\n",
    "s_shuff = list(zip(speech, speech_stft))\n",
    "random.shuffle(s_shuff)\n",
    "speech, speech_stft = zip(*s_shuff)\n",
    "speech = list(speech)\n",
    "speech_stft = list(speech_stft)\n",
    "#print(len(speech), len(speech_stft))"
   ]
  },
  {
   "cell_type": "code",
   "execution_count": 11,
   "metadata": {},
   "outputs": [],
   "source": [
    "# IMPROVE CONTRAST BY LOG SCALING\n",
    "for i in range(len(music_stft)):\n",
    "    mag = abs(music_stft[i])\n",
    "    #phase = np.angle(music_stft[i])\n",
    "    music_stft[i] = (mag**0.3)# * (np.exp(1j * phase))\n",
    "\n",
    "for i in range(len(speech_stft)):\n",
    "    mag = abs(speech_stft[i])\n",
    "    #phase = np.angle(speech_stft[i])\n",
    "    speech_stft[i] = (mag**0.3)# * (np.exp(1j * phase))"
   ]
  },
  {
   "cell_type": "code",
   "execution_count": 12,
   "metadata": {},
   "outputs": [],
   "source": [
    "# DIVIDE SETS INTO TRAIN/TEST DATA\n",
    "split = 50\n",
    "music_train = music[:split]\n",
    "music_test = music[split:]\n",
    "speech_train = speech[:split]\n",
    "speech_test = speech[split:]\n",
    "\n",
    "music_train_stft = music_stft[:split]\n",
    "music_test_stft = music_stft[split:]\n",
    "speech_train_stft = speech_stft[:split]\n",
    "speech_test_stft = speech_stft[split:]"
   ]
  },
  {
   "cell_type": "code",
   "execution_count": 13,
   "metadata": {},
   "outputs": [],
   "source": [
    "# LISTEN\n",
    "#sound(music_train[0], sr)\n",
    "#sound(music_test[0], sr)\n",
    "#sound(speech_train[0], sr)\n",
    "#sound(speech_test[0], sr)"
   ]
  },
  {
   "cell_type": "code",
   "execution_count": 14,
   "metadata": {
    "scrolled": true
   },
   "outputs": [],
   "source": [
    "# PLOT STFT\n",
    "# reconstruct with phase during log scaling if you want to do this\n",
    "#samp_sr = sr\n",
    "#samp = music_train[0]\n",
    "#samp_stft = music_train_stft[0]\n",
    "\n",
    "# normalize axes to Hz vs s\n",
    "#samp_hz2bin = (samp_stft.shape[0])*(samp_sr/2)\n",
    "#samp_xticks = np.arange(0, samp_stft.shape[1], samp_sr/(samp.size/samp_stft.shape[1]))\n",
    "#samp_xlabels = np.arange(samp_xticks.size)\n",
    "#samp_numb_yticks = 10;\n",
    "#samp_freq = np.fft.fftfreq((samp_stft.shape[0])*2)*samp_sr\n",
    "#samp_yticks = np.arange(0, samp_stft.shape[0], samp_stft.shape[0]/samp_numb_yticks)\n",
    "#samp_ylabels = samp_freq[:(samp_freq.size//2): samp_stft.shape[0]//samp_numb_yticks]\n",
    "\n",
    "# plot spectrogram + play sound\n",
    "#plt.pcolormesh(abs(samp_stft), cmap='cubehelix')\n",
    "#plt.xticks(samp_xticks, samp_xlabels)\n",
    "#plt.yticks(samp_yticks, samp_ylabels)\n",
    "#ax = plt.gca()\n",
    "##ax.set_xlim((110, 130))\n",
    "##ax.set_ylim((0, 2000*samp_hz2bin))\n",
    "#plt.show()\n",
    "#sound(istft(samp_stft), rate=samp_sr) # sounds bad because of the log scaling"
   ]
  },
  {
   "cell_type": "code",
   "execution_count": 15,
   "metadata": {},
   "outputs": [],
   "source": [
    "# FORMAT DATA\n",
    "music_train_data = []\n",
    "for i in range(len(music_train_stft)):\n",
    "    for j in range(music_train_stft[i].shape[1]):\n",
    "        music_train_data.append(music_train_stft[i][:, j])\n",
    "#print('music train', len(music_train_data), music_train_data[0].shape)\n",
    "\n",
    "music_test_data = []\n",
    "for i in range(len(music_test_stft)):\n",
    "    for j in range(music_test_stft[i].shape[1]):\n",
    "        music_test_data.append(music_test_stft[i][:, j])\n",
    "#print('music test', len(music_test_data), music_test_data[0].shape)\n",
    "\n",
    "speech_train_data = []\n",
    "for i in range(len(speech_train_stft)):\n",
    "    for j in range(speech_train_stft[i].shape[1]):\n",
    "        speech_train_data.append(speech_train_stft[i][:, j])\n",
    "#print('speech train', len(speech_train_data), speech_train_data[0].shape)\n",
    "\n",
    "speech_test_data = []\n",
    "for i in range(len(speech_test_stft)):\n",
    "    for j in range(speech_test_stft[i].shape[1]):\n",
    "        speech_test_data.append(speech_test_stft[i][:, j])\n",
    "#print('speech test', len(speech_test_data), speech_test_data[0].shape)"
   ]
  },
  {
   "cell_type": "code",
   "execution_count": 16,
   "metadata": {},
   "outputs": [
    {
     "data": {
      "text/plain": [
       "GaussianMixture(covariance_type='diag', init_params='kmeans', max_iter=100,\n",
       "                means_init=None, n_components=1, n_init=1, precisions_init=None,\n",
       "                random_state=None, reg_covar=1e-06, tol=0.001, verbose=0,\n",
       "                verbose_interval=10, warm_start=False, weights_init=None)"
      ]
     },
     "execution_count": 16,
     "metadata": {},
     "output_type": "execute_result"
    }
   ],
   "source": [
    "# TRAIN CLASSIFIERS (GAUSSIAN MODEL)\n",
    "music_classifier = GMM(1, 'diag')\n",
    "music_classifier.fit(music_train_data)\n",
    "\n",
    "speech_classifier = GMM(1, 'diag')\n",
    "speech_classifier.fit(speech_train_data)"
   ]
  },
  {
   "cell_type": "code",
   "execution_count": 17,
   "metadata": {},
   "outputs": [
    {
     "name": "stdout",
     "output_type": "stream",
     "text": [
      "MUSIC RESULTS #CORRECT = 8\n"
     ]
    }
   ],
   "source": [
    "# TEST MUSIC\n",
    "music_raw_scores1 = music_classifier.score_samples(music_test_data)\n",
    "music_raw_scores2 = speech_classifier.score_samples(music_test_data)\n",
    "\n",
    "# music VS music classifier\n",
    "k=0\n",
    "score=0\n",
    "music_scores1 = []\n",
    "for i in range(len(music_test_stft)):\n",
    "    for j in range(music_test_stft[i].shape[1]):\n",
    "        score += music_raw_scores1[k]\n",
    "        k+=1\n",
    "    music_scores1.append(score)\n",
    "    score = 0\n",
    "#print(len(music_scores1))\n",
    "#print(music_scores1)\n",
    "\n",
    "# music VS speech classifier\n",
    "k=0\n",
    "score=0\n",
    "music_scores2 = []\n",
    "for i in range(len(music_test_stft)):\n",
    "    for j in range(music_test_stft[i].shape[1]):\n",
    "        score += music_raw_scores2[k]\n",
    "        k+=1\n",
    "    music_scores2.append(score)\n",
    "    score = 0\n",
    "#print(len(music_scores2))\n",
    "#print(music_scores2)\n",
    "\n",
    "# music results\n",
    "results = 0\n",
    "for i in range(len(music_scores1)):\n",
    "    if (music_scores1[i] > music_scores2[i]):\n",
    "        results+=1\n",
    "#print()\n",
    "print(\"MUSIC RESULTS #CORRECT =\", results)"
   ]
  },
  {
   "cell_type": "code",
   "execution_count": 18,
   "metadata": {},
   "outputs": [
    {
     "name": "stdout",
     "output_type": "stream",
     "text": [
      "SPEECH RESULTS #CORRECT = 9\n"
     ]
    }
   ],
   "source": [
    "# TEST SPEECH\n",
    "speech_raw_scores1 = speech_classifier.score_samples(speech_test_data)\n",
    "speech_raw_scores2 = music_classifier.score_samples(speech_test_data)\n",
    "\n",
    "# speech VS speech classifier\n",
    "k=0\n",
    "score=0\n",
    "speech_scores1 = []\n",
    "for i in range(len(speech_test_stft)):\n",
    "    for j in range(speech_test_stft[i].shape[1]):\n",
    "        score += speech_raw_scores1[k]\n",
    "        k+=1\n",
    "    speech_scores1.append(score)\n",
    "    score = 0\n",
    "#print(len(speech_scores1))\n",
    "#print(speech_scores1)\n",
    "\n",
    "# speech VS music classifier\n",
    "k=0\n",
    "score=0\n",
    "speech_scores2 = []\n",
    "for i in range(len(speech_test_stft)):\n",
    "    for j in range(speech_test_stft[i].shape[1]):\n",
    "        score += speech_raw_scores2[k]\n",
    "        k+=1\n",
    "    speech_scores2.append(score)\n",
    "    score = 0\n",
    "#print(len(speech_scores2))\n",
    "#print(speech_scores2)\n",
    "\n",
    "# speech results\n",
    "results = 0\n",
    "for i in range(len(speech_scores1)):\n",
    "    if (speech_scores1[i] > speech_scores2[i]):\n",
    "        results+=1\n",
    "#print()\n",
    "print(\"SPEECH RESULTS #CORRECT =\", results)"
   ]
  },
  {
   "cell_type": "code",
   "execution_count": 19,
   "metadata": {},
   "outputs": [],
   "source": [
    "### --- NOTES --- ###\n",
    "\n",
    "# speech is typically more accurate ~ 80/90 %\n",
    "# music ~ 50/60/70 %\n",
    "\n",
    "# using the same train/test set combo always yields the same results"
   ]
  },
  {
   "cell_type": "markdown",
   "metadata": {
    "deletable": false,
    "editable": false,
    "nbgrader": {
     "cell_type": "markdown",
     "checksum": "06bbd01450e6b4e79e1e797eed004eb9",
     "grade": false,
     "grade_id": "cell-ea09b70a28708831",
     "locked": true,
     "schema_version": 3,
     "solution": false,
     "task": false
    }
   },
   "source": [
    "## Part 2: Making a music genre classifier"
   ]
  },
  {
   "cell_type": "markdown",
   "metadata": {
    "deletable": false,
    "editable": false,
    "nbgrader": {
     "cell_type": "markdown",
     "checksum": "269037d2526644f0210bef91b148f92c",
     "grade": false,
     "grade_id": "cell-b577ec2dbb637ab9",
     "locked": true,
     "schema_version": 3,
     "solution": false,
     "task": false
    }
   },
   "source": [
    "We will repeat the above, but this time we will perform music genre classification. To do so we will use a slightly more elaborate feature representation, and a stronger classification model. If you downloaded the data archive pointed to above, you will find a subset of the CTZAN dataset in the data/genre folder, this is a benchmark data set for music genre classification.\n",
    "\n",
    "Just as before, you will find a set of directories with examples of each sound class that we want to recognize. For each class, split the soundfiles into a training set (50% of data) and testing set (remaining 50% of data).\n",
    "\n",
    "For a representation we will use MFCC features. For extra credit, code these yourself otherwise you can use the implementation from the ```librosa``` library. Once all the files are transformed we will have a series of MFCC frames for each recording (as opposed to spectral frames as is in the case of the STFT). We will use these as the data to classify.\n",
    "\n",
    "For each class learn a Gaussian model (with a diagonal covariance again). This will be the same process as above.\n",
    "In order to evaluate how good this works we will use the following procedure. For each sound in the training data, get the likelihood of each MFCC frame based on the learned Gaussian models and sum these over the entire file just as we did before. Use the resulting values to get a classification result for each . Report how accurate your results are. Now report the accuracy using your testing data instead.\n",
    "\n",
    "Now will use a better classifier to hopefully get better accuracy. We will use a Gaussian Mixture Model (```sklearn.mixture.GaussianMixture```). Just as before you should learn one such model for each class using the corresponding training data.\n",
    "\n",
    "How many Gaussians do you need in your GMM to get the best results? Do the MFCC parameters make a difference? Play around with the numbers to get the best possible results."
   ]
  },
  {
   "cell_type": "code",
   "execution_count": 20,
   "metadata": {
    "deletable": false,
    "nbgrader": {
     "cell_type": "code",
     "checksum": "24f1bd9efdb18646cfb6372f1748c878",
     "grade": true,
     "grade_id": "cell-1f20306aee8e6f97",
     "locked": false,
     "points": 3,
     "schema_version": 3,
     "solution": true,
     "task": false
    }
   },
   "outputs": [
    {
     "name": "stderr",
     "output_type": "stream",
     "text": [
      "c:\\users\\thomas\\.virtualenvs\\labs-svz6oad0\\lib\\site-packages\\librosa\\core\\audio.py:161: UserWarning: PySoundFile failed. Trying audioread instead.\n",
      "  warnings.warn('PySoundFile failed. Trying audioread instead.')\n"
     ]
    },
    {
     "name": "stdout",
     "output_type": "stream",
     "text": [
      "1 2 3 4 5 6 7 8 9 10 11 12 13 14 15 16 17 18 19 20 21 22 23 24 25 26 27 28 29 30 31 32 33 34 35 36 37 38 39 40 41 42 43 44 45 46 47 48 49 50 51 52 53 54 55 56 57 58 59 60 61 62 63 64 65 66 67 68 69 70 71 72 73 74 75 76 77 78 79 80 81 82 83 84 85 86 87 88 89 90 91 92 93 94 95 96 97 98 99 100 101 102 103 104 105 106 107 108 109 110 111 112 113 114 115 116 117 118 119 120 121 122 123 124 125 126 127 128 129 130 131 132 133 134 135 136 137 138 139 140 141 142 143 144 145 146 147 148 149 150 151 152 153 154 155 156 157 158 159 160 161 162 163 164 165 166 167 168 169 170 171 172 173 174 175 176 177 178 179 180 181 182 183 184 185 186 187 188 189 190 191 192 193 194 195 196 197 198 199 200 201 202 203 204 205 206 207 208 209 210 211 212 213 214 215 216 217 218 219 220 221 222 223 224 225 226 227 228 229 230 231 232 233 234 235 236 237 238 239 240 241 242 243 244 245 246 247 248 249 250 251 252 253 254 255 256 257 258 259 260 261 262 263 264 265 266 267 268 269 270 271 272 273 274 275 276 277 278 279 280 281 282 283 284 285 286 287 288 289 290 291 292 293 294 295 296 297 298 299 300 301 302 303 304 305 306 307 308 309 310 311 312 313 314 315 316 317 318 319 320 321 322 323 324 325 326 327 328 329 330 331 332 333 334 335 336 337 338 339 340 341 342 343 344 345 346 347 348 349 350 351 352 353 354 355 356 357 358 359 360 361 362 363 364 365 366 367 368 369 370 371 372 373 374 375 376 377 378 379 380 381 382 383 384 385 386 387 388 389 390 391 392 393 394 395 396 397 398 399 400 401 402 403 404 405 406 407 408 409 410 411 412 413 414 415 416 417 418 419 420 421 422 423 424 425 426 427 428 429 430 431 432 433 434 435 436 437 438 439 440 441 442 443 444 445 446 447 448 449 450 451 452 453 454 455 456 457 458 459 460 461 462 463 464 465 466 467 468 469 470 471 472 473 474 475 476 477 478 479 480 481 482 483 484 485 486 487 488 489 490 491 492 493 494 495 496 497 498 499 500 "
     ]
    }
   ],
   "source": [
    "# LOAD GENRES\n",
    "exec_cnt = 0\n",
    "\n",
    "classical_sr = np.empty(0)\n",
    "classical = []\n",
    "for root, sub, files in os.walk('data/genres/classical/'):\n",
    "    for f in files:\n",
    "        x, sr = load(os.path.join(root, f))\n",
    "        classical_sr = np.append(classical_sr, sr)\n",
    "        classical.append(x)\n",
    "        exec_cnt+=1\n",
    "        print(exec_cnt, end=' ')\n",
    "\n",
    "disco_sr = np.empty(0)\n",
    "disco = []\n",
    "for root, sub, files in os.walk('data/genres/disco/'):\n",
    "    for f in files:\n",
    "        x, sr = load(os.path.join(root, f))\n",
    "        disco_sr = np.append(disco_sr, sr)\n",
    "        disco.append(x)\n",
    "        exec_cnt+=1\n",
    "        print(exec_cnt, end=' ')\n",
    "\n",
    "metal_sr = np.empty(0)\n",
    "metal = []\n",
    "for root, sub, files in os.walk('data/genres/metal/'):\n",
    "    for f in files:\n",
    "        x, sr = load(os.path.join(root, f))\n",
    "        metal_sr = np.append(metal_sr, sr)\n",
    "        metal.append(x)\n",
    "        exec_cnt+=1\n",
    "        print(exec_cnt, end=' ')\n",
    "\n",
    "pop_sr = np.empty(0)\n",
    "pop = []\n",
    "for root, sub, files in os.walk('data/genres/pop/'):\n",
    "    for f in files:\n",
    "        x, sr = load(os.path.join(root, f))\n",
    "        pop_sr = np.append(pop_sr, sr)\n",
    "        pop.append(x)\n",
    "        exec_cnt+=1\n",
    "        print(exec_cnt, end=' ')\n",
    "\n",
    "reggae_sr = np.empty(0)\n",
    "reggae = []\n",
    "for root, sub, files in os.walk('data/genres/reggae/'):\n",
    "    for f in files:\n",
    "        x, sr = load(os.path.join(root, f))\n",
    "        reggae_sr = np.append(reggae_sr, sr)\n",
    "        reggae.append(x)\n",
    "        exec_cnt+=1\n",
    "        print(exec_cnt, end=' ')\n",
    "        \n",
    "#print()\n",
    "#print('classical:', classical_sr.shape, len(classical))\n",
    "#print('disco:', disco_sr.shape, len(disco))\n",
    "#print('metal', metal_sr.shape, len(metal))\n",
    "#print('pop', pop_sr.shape, len(pop))\n",
    "#print('reggae', reggae_sr.shape, len(reggae))"
   ]
  },
  {
   "cell_type": "code",
   "execution_count": 21,
   "metadata": {},
   "outputs": [],
   "source": [
    "# SAMPLE RATES\n",
    "#print(classical_sr)\n",
    "#print(disco_sr)\n",
    "#print(metal_sr)\n",
    "#print(pop_sr)\n",
    "#print(reggae_sr)\n",
    "sr = 22050"
   ]
  },
  {
   "cell_type": "code",
   "execution_count": 22,
   "metadata": {},
   "outputs": [
    {
     "name": "stdout",
     "output_type": "stream",
     "text": [
      "1 2 3 4 5 6 7 8 9 10 11 12 13 14 15 16 17 18 19 20 21 22 23 24 25 26 27 28 29 30 31 32 33 34 35 36 37 38 39 40 41 42 43 44 45 46 47 48 49 50 51 52 53 54 55 56 57 58 59 60 61 62 63 64 65 66 67 68 69 70 71 72 73 74 75 76 77 78 79 80 81 82 83 84 85 86 87 88 89 90 91 92 93 94 95 96 97 98 99 100 101 102 103 104 105 106 107 108 109 110 111 112 113 114 115 116 117 118 119 120 121 122 123 124 125 126 127 128 129 130 131 132 133 134 135 136 137 138 139 140 141 142 143 144 145 146 147 148 149 150 151 152 153 154 155 156 157 158 159 160 161 162 163 164 165 166 167 168 169 170 171 172 173 174 175 176 177 178 179 180 181 182 183 184 185 186 187 188 189 190 191 192 193 194 195 196 197 198 199 200 201 202 203 204 205 206 207 208 209 210 211 212 213 214 215 216 217 218 219 220 221 222 223 224 225 226 227 228 229 230 231 232 233 234 235 236 237 238 239 240 241 242 243 244 245 246 247 248 249 250 251 252 253 254 255 256 257 258 259 260 261 262 263 264 265 266 267 268 269 270 271 272 273 274 275 276 277 278 279 280 281 282 283 284 285 286 287 288 289 290 291 292 293 294 295 296 297 298 299 300 301 302 303 304 305 306 307 308 309 310 311 312 313 314 315 316 317 318 319 320 321 322 323 324 325 326 327 328 329 330 331 332 333 334 335 336 337 338 339 340 341 342 343 344 345 346 347 348 349 350 351 352 353 354 355 356 357 358 359 360 361 362 363 364 365 366 367 368 369 370 371 372 373 374 375 376 377 378 379 380 381 382 383 384 385 386 387 388 389 390 391 392 393 394 395 396 397 398 399 400 401 402 403 404 405 406 407 408 409 410 411 412 413 414 415 416 417 418 419 420 421 422 423 424 425 426 427 428 429 430 431 432 433 434 435 436 437 438 439 440 441 442 443 444 445 446 447 448 449 450 451 452 453 454 455 456 457 458 459 460 461 462 463 464 465 466 467 468 469 470 471 472 473 474 475 476 477 478 479 480 481 482 483 484 485 486 487 488 489 490 491 492 493 494 495 496 497 498 499 500 "
     ]
    }
   ],
   "source": [
    "# MFCC\n",
    "n_mfcc_dflt=40\n",
    "exec_cnt = 0\n",
    "\n",
    "classical_mfcc = []\n",
    "for i in range(len(classical)):\n",
    "    f = mfcc(classical[i], sr, n_mfcc=n_mfcc_dflt)\n",
    "    classical_mfcc.append(f)\n",
    "    exec_cnt+=1\n",
    "    print(exec_cnt, end=' ')\n",
    "    \n",
    "disco_mfcc = []\n",
    "for i in range(len(disco)):\n",
    "    f = mfcc(disco[i], sr, n_mfcc=n_mfcc_dflt)\n",
    "    disco_mfcc.append(f)\n",
    "    exec_cnt+=1\n",
    "    print(exec_cnt, end=' ')\n",
    "    \n",
    "metal_mfcc = []\n",
    "for i in range(len(metal)):\n",
    "    f = mfcc(metal[i], sr, n_mfcc=n_mfcc_dflt)\n",
    "    metal_mfcc.append(f)\n",
    "    exec_cnt+=1\n",
    "    print(exec_cnt, end=' ')\n",
    "    \n",
    "pop_mfcc = []\n",
    "for i in range(len(pop)):\n",
    "    f = mfcc(pop[i], sr, n_mfcc=n_mfcc_dflt)\n",
    "    pop_mfcc.append(f)\n",
    "    exec_cnt+=1\n",
    "    print(exec_cnt, end=' ')\n",
    "\n",
    "reggae_mfcc = []\n",
    "for i in range(len(reggae)):\n",
    "    f = mfcc(reggae[i], sr, n_mfcc=n_mfcc_dflt)\n",
    "    reggae_mfcc.append(f)\n",
    "    exec_cnt+=1\n",
    "    print(exec_cnt, end=' ')\n",
    "\n",
    "#print()\n",
    "#print('classical', len(classical_mfcc), classical_mfcc[0].shape)\n",
    "#print('disco', len(disco_mfcc), disco_mfcc[0].shape)\n",
    "#print('metal', len(metal_mfcc), metal_mfcc[0].shape)\n",
    "#print('pop', len(pop_mfcc), pop_mfcc[0].shape)\n",
    "#print('reggae', len(reggae_mfcc), reggae_mfcc[0].shape)"
   ]
  },
  {
   "cell_type": "code",
   "execution_count": 23,
   "metadata": {},
   "outputs": [],
   "source": [
    "# SAVE\n",
    "#classical_mfcc_save = copy.deepcopy(classical_mfcc)\n",
    "#disco_mfcc_save = copy.deepcopy(disco_mfcc)\n",
    "#metal_mfcc_save = copy.deepcopy(metal_mfcc)\n",
    "#pop_mfcc_save = copy.deepcopy(pop_mfcc)\n",
    "#reggae_mfcc_save = copy.deepcopy(reggae_mfcc)\n",
    "\n",
    "# RELOAD\n",
    "#classical_mfcc = copy.deepcopy(classical_mfcc_save)\n",
    "#disco_mfcc = copy.deepcopy(disco_mfcc_save)\n",
    "#metal_mfcc = copy.deepcopy(metal_mfcc_save)\n",
    "#pop_mfcc = copy.deepcopy(pop_mfcc_save)\n",
    "#reggae_mfcc = copy.deepcopy(reggae_mfcc_save)"
   ]
  },
  {
   "cell_type": "code",
   "execution_count": 24,
   "metadata": {},
   "outputs": [],
   "source": [
    "# RANDOMIZE ORDERING OF DATA\n",
    "classical_shuff = list(zip(classical, classical_mfcc))\n",
    "random.shuffle(classical_shuff)\n",
    "classical, classical_mfcc = zip(*classical_shuff)\n",
    "classical = list(classical)\n",
    "classical_mfcc = list(classical_mfcc)\n",
    "#print('classical', len(classical), len(classical_mfcc))\n",
    "\n",
    "disco_shuff = list(zip(disco, disco_mfcc))\n",
    "random.shuffle(disco_shuff)\n",
    "disco, disco_mfcc = zip(*disco_shuff)\n",
    "disco = list(disco)\n",
    "disco_mfcc = list(disco_mfcc)\n",
    "#print('disco', len(disco), len(disco_mfcc))\n",
    "\n",
    "metal_shuff = list(zip(metal, metal_mfcc))\n",
    "random.shuffle(metal_shuff)\n",
    "metal, metal_mfcc = zip(*metal_shuff)\n",
    "metal = list(metal)\n",
    "metal_mfcc = list(metal_mfcc)\n",
    "#print('metal', len(metal), len(metal_mfcc))\n",
    "\n",
    "pop_shuff = list(zip(pop, pop_mfcc))\n",
    "random.shuffle(pop_shuff)\n",
    "pop, pop_mfcc = zip(*pop_shuff)\n",
    "pop = list(pop)\n",
    "pop_mfcc = list(pop_mfcc)\n",
    "#print('pop', len(pop), len(pop_mfcc))\n",
    "\n",
    "reggae_shuff = list(zip(reggae, reggae_mfcc))\n",
    "random.shuffle(reggae_shuff)\n",
    "reggae, reggae_mfcc = zip(*reggae_shuff)\n",
    "reggae = list(reggae)\n",
    "reggae_mfcc = list(reggae_mfcc)\n",
    "#print('reggae', len(reggae), len(reggae_mfcc))"
   ]
  },
  {
   "cell_type": "code",
   "execution_count": 25,
   "metadata": {},
   "outputs": [],
   "source": [
    "# DIVIDE SETS INTO TRAIN/TEST DATA\n",
    "split = 50\n",
    "\n",
    "classical_train = classical[:split]\n",
    "classical_test = classical[split:]\n",
    "classical_train_mfcc = classical_mfcc[:split]\n",
    "classical_test_mfcc = classical_mfcc[split:]\n",
    "\n",
    "disco_train = disco[:split]\n",
    "disco_test = disco[split:]\n",
    "disco_train_mfcc = disco_mfcc[:split]\n",
    "disco_test_mfcc = disco_mfcc[split:]\n",
    "\n",
    "metal_train = metal[:split]\n",
    "metal_test = metal[split:]\n",
    "metal_train_mfcc = metal_mfcc[:split]\n",
    "metal_test_mfcc = metal_mfcc[split:]\n",
    "\n",
    "pop_train = pop[:split]\n",
    "pop_test = pop[split:]\n",
    "pop_train_mfcc = pop_mfcc[:split]\n",
    "pop_test_mfcc = pop_mfcc[split:]\n",
    "\n",
    "reggae_train = reggae[:split]\n",
    "reggae_test = reggae[split:]\n",
    "reggae_train_mfcc = reggae_mfcc[:split]\n",
    "reggae_test_mfcc = reggae_mfcc[split:]"
   ]
  },
  {
   "cell_type": "code",
   "execution_count": 26,
   "metadata": {},
   "outputs": [],
   "source": [
    "# LISTEN\n",
    "#sound(classical_train[0], sr)\n",
    "#sound(classical_test[0], sr)\n",
    "#sound(disco_train[0], sr)\n",
    "#sound(disco_test[0], sr)\n",
    "#sound(metal_train[0], sr)\n",
    "#sound(metal_test[0], sr)\n",
    "#sound(pop_train[0], sr)\n",
    "#sound(pop_test[0], sr)\n",
    "#sound(reggae_train[0], sr)\n",
    "#sound(reggae_test[0], sr)"
   ]
  },
  {
   "cell_type": "code",
   "execution_count": 27,
   "metadata": {},
   "outputs": [],
   "source": [
    "# FORMAT TRAIN/TEST DATA\n",
    "classical_train_data = []\n",
    "for i in range(len(classical_train_mfcc)):\n",
    "    for j in range(classical_train_mfcc[i].shape[1]):\n",
    "        classical_train_data.append(classical_train_mfcc[i][:, j])\n",
    "#print(len(classical_train_data))\n",
    "#print(classical_train_data[0].shape)\n",
    "\n",
    "classical_test_data = []\n",
    "for i in range(len(classical_test_mfcc)):\n",
    "    for j in range(classical_test_mfcc[i].shape[1]):\n",
    "        classical_test_data.append(classical_test_mfcc[i][:, j])\n",
    "#print(len(classical_test_data))\n",
    "#print(classical_test_data[0].shape)\n",
    "#print()\n",
    "\n",
    "disco_train_data = []\n",
    "for i in range(len(disco_train_mfcc)):\n",
    "    for j in range(disco_train_mfcc[i].shape[1]):\n",
    "        disco_train_data.append(disco_train_mfcc[i][:, j])\n",
    "#print(len(disco_train_data))\n",
    "#print(disco_train_data[0].shape)\n",
    "\n",
    "disco_test_data = []\n",
    "for i in range(len(disco_test_mfcc)):\n",
    "    for j in range(disco_test_mfcc[i].shape[1]):\n",
    "        disco_test_data.append(disco_test_mfcc[i][:, j])\n",
    "#print(len(disco_test_data))\n",
    "#print(disco_test_data[0].shape)\n",
    "#print()\n",
    "\n",
    "metal_train_data = []\n",
    "for i in range(len(metal_train_mfcc)):\n",
    "    for j in range(metal_train_mfcc[i].shape[1]):\n",
    "        metal_train_data.append(metal_train_mfcc[i][:, j])\n",
    "#print(len(metal_train_data))\n",
    "#print(metal_train_data[0].shape)\n",
    "\n",
    "metal_test_data = []\n",
    "for i in range(len(metal_test_mfcc)):\n",
    "    for j in range(metal_test_mfcc[i].shape[1]):\n",
    "        metal_test_data.append(metal_test_mfcc[i][:, j])\n",
    "#print(len(metal_test_data))\n",
    "#print(metal_test_data[0].shape)\n",
    "#print()\n",
    "\n",
    "pop_train_data = []\n",
    "for i in range(len(pop_train_mfcc)):\n",
    "    for j in range(pop_train_mfcc[i].shape[1]):\n",
    "        pop_train_data.append(pop_train_mfcc[i][:, j])\n",
    "#print(len(pop_train_data))\n",
    "#print(pop_train_data[0].shape)\n",
    "\n",
    "pop_test_data = []\n",
    "for i in range(len(pop_test_mfcc)):\n",
    "    for j in range(pop_test_mfcc[i].shape[1]):\n",
    "        pop_test_data.append(pop_test_mfcc[i][:, j])\n",
    "#print(len(pop_test_data))\n",
    "#print(pop_test_data[0].shape)\n",
    "#print()\n",
    "\n",
    "reggae_train_data = []\n",
    "for i in range(len(reggae_train_mfcc)):\n",
    "    for j in range(reggae_train_mfcc[i].shape[1]):\n",
    "        reggae_train_data.append(reggae_train_mfcc[i][:, j])\n",
    "#print(len(reggae_train_data))\n",
    "#print(reggae_train_data[0].shape)\n",
    "\n",
    "reggae_test_data = []\n",
    "for i in range(len(reggae_test_mfcc)):\n",
    "    for j in range(reggae_test_mfcc[i].shape[1]):\n",
    "        reggae_test_data.append(reggae_test_mfcc[i][:, j])\n",
    "#print(len(reggae_test_data))\n",
    "#print(reggae_test_data[0].shape)"
   ]
  },
  {
   "cell_type": "code",
   "execution_count": 28,
   "metadata": {},
   "outputs": [
    {
     "data": {
      "text/plain": [
       "GaussianMixture(covariance_type='diag', init_params='kmeans', max_iter=100,\n",
       "                means_init=None, n_components=15, n_init=1,\n",
       "                precisions_init=None, random_state=None, reg_covar=1e-06,\n",
       "                tol=0.001, verbose=0, verbose_interval=10, warm_start=False,\n",
       "                weights_init=None)"
      ]
     },
     "execution_count": 28,
     "metadata": {},
     "output_type": "execute_result"
    }
   ],
   "source": [
    "# TRAIN CLASSIFIERS (GAUSSIAN MODEL)\n",
    "classical_classifier = GMM(15, 'diag')\n",
    "classical_classifier.fit(classical_train_data)\n",
    "\n",
    "disco_classifier = GMM(15, 'diag')\n",
    "disco_classifier.fit(disco_train_data)\n",
    "\n",
    "metal_classifier = GMM(15, 'diag')\n",
    "metal_classifier.fit(metal_train_data)\n",
    "\n",
    "pop_classifier = GMM(15, 'diag')\n",
    "pop_classifier.fit(pop_train_data)\n",
    "\n",
    "reggae_classifier = GMM(15, 'diag')\n",
    "reggae_classifier.fit(reggae_train_data)"
   ]
  },
  {
   "cell_type": "code",
   "execution_count": 29,
   "metadata": {},
   "outputs": [],
   "source": [
    "# TEST FUNCTION\n",
    "def score_test(test_data, test_mfcc):\n",
    "    raw_scores1 = classical_classifier.score_samples(test_data)\n",
    "    raw_scores2 = disco_classifier.score_samples(test_data)\n",
    "    raw_scores3 = metal_classifier.score_samples(test_data)\n",
    "    raw_scores4 = pop_classifier.score_samples(test_data)\n",
    "    raw_scores5 = reggae_classifier.score_samples(test_data)\n",
    "\n",
    "    # classical classifier\n",
    "    k=0\n",
    "    score=0\n",
    "    scores1 = []\n",
    "    for i in range(len(test_mfcc)):\n",
    "        for j in range(test_mfcc[i].shape[1]):\n",
    "            score += raw_scores1[k]\n",
    "            k+=1\n",
    "        scores1.append(score)\n",
    "        score = 0\n",
    "    #print(len(scores1))\n",
    "    #print(scores1)\n",
    "\n",
    "    # disco classifier\n",
    "    k=0\n",
    "    score=0\n",
    "    scores2 = []\n",
    "    for i in range(len(test_mfcc)):\n",
    "        for j in range(test_mfcc[i].shape[1]):\n",
    "            score += raw_scores2[k]\n",
    "            k+=1\n",
    "        scores2.append(score)\n",
    "        score = 0\n",
    "    #print(len(scores2))\n",
    "    #print(scores2)\n",
    "\n",
    "    # metal classifier\n",
    "    k=0\n",
    "    score=0\n",
    "    scores3 = []\n",
    "    for i in range(len(test_mfcc)):\n",
    "        for j in range(test_mfcc[i].shape[1]):\n",
    "            score += raw_scores3[k]\n",
    "            k+=1\n",
    "        scores3.append(score)\n",
    "        score = 0\n",
    "    #print(len(scores3))\n",
    "    #print(scores3)\n",
    "\n",
    "    # pop classifier\n",
    "    k=0\n",
    "    score=0\n",
    "    scores4 = []\n",
    "    for i in range(len(test_mfcc)):\n",
    "        for j in range(test_mfcc[i].shape[1]):\n",
    "            score += raw_scores4[k]\n",
    "            k+=1\n",
    "        scores4.append(score)\n",
    "        score = 0\n",
    "    #print(len(scores4))\n",
    "    #print(scores4)\n",
    "\n",
    "    # reggae classifier\n",
    "    k=0\n",
    "    score=0\n",
    "    scores5 = []\n",
    "    for i in range(len(test_mfcc)):\n",
    "        for j in range(test_mfcc[i].shape[1]):\n",
    "            score += raw_scores5[k]\n",
    "            k+=1\n",
    "        scores5.append(score)\n",
    "        score = 0\n",
    "    #print(len(scores5))\n",
    "    #print(scores5)\n",
    "\n",
    "    # results\n",
    "    results1 = 0\n",
    "    results2 = 0\n",
    "    results3 = 0\n",
    "    results4 = 0\n",
    "    results5 = 0\n",
    "    for i in range(len(scores1)):\n",
    "        results = np.array((scores1[i], scores2[i], scores3[i], scores4[i], scores5[i]))\n",
    "        if (np.argmax(results) == 0):\n",
    "            results1+=1\n",
    "        elif (np.argmax(results) == 1):\n",
    "            results2+=1\n",
    "        elif (np.argmax(results) == 2):\n",
    "            results3+=1\n",
    "        elif (np.argmax(results) == 3):\n",
    "            results4+=1\n",
    "        elif (np.argmax(results) == 4):\n",
    "            results5+=1\n",
    "    print(\"CLASSICAL =\", results1)\n",
    "    print(\"DISCO =\", results2)\n",
    "    print(\"METAL =\", results3)\n",
    "    print(\"POP =\", results4)\n",
    "    print(\"REGGAE =\", results5)\n",
    "    print()"
   ]
  },
  {
   "cell_type": "code",
   "execution_count": 30,
   "metadata": {},
   "outputs": [
    {
     "name": "stdout",
     "output_type": "stream",
     "text": [
      "~~~ CLASSICAL RESULTS ~~~\n",
      "CLASSICAL = 47\n",
      "DISCO = 1\n",
      "METAL = 0\n",
      "POP = 0\n",
      "REGGAE = 2\n",
      "\n",
      "~~~ DISCO RESULTS ~~~\n",
      "CLASSICAL = 1\n",
      "DISCO = 32\n",
      "METAL = 0\n",
      "POP = 12\n",
      "REGGAE = 5\n",
      "\n",
      "~~~ METAL RESULTS ~~~\n",
      "CLASSICAL = 0\n",
      "DISCO = 1\n",
      "METAL = 49\n",
      "POP = 0\n",
      "REGGAE = 0\n",
      "\n",
      "~~~ POP RESULTS ~~~\n",
      "CLASSICAL = 0\n",
      "DISCO = 0\n",
      "METAL = 0\n",
      "POP = 49\n",
      "REGGAE = 1\n",
      "\n",
      "~~~ REGGAE RESULTS ~~~\n",
      "CLASSICAL = 0\n",
      "DISCO = 3\n",
      "METAL = 0\n",
      "POP = 7\n",
      "REGGAE = 40\n",
      "\n"
     ]
    }
   ],
   "source": [
    "# RESULTS FOR THE TEST DATA\n",
    "print(\"~~~ CLASSICAL RESULTS ~~~\")\n",
    "score_test(classical_test_data, classical_test_mfcc)\n",
    "print(\"~~~ DISCO RESULTS ~~~\")\n",
    "score_test(disco_test_data, disco_test_mfcc)\n",
    "print(\"~~~ METAL RESULTS ~~~\")\n",
    "score_test(metal_test_data, metal_test_mfcc)\n",
    "print(\"~~~ POP RESULTS ~~~\")\n",
    "score_test(pop_test_data, pop_test_mfcc)\n",
    "print(\"~~~ REGGAE RESULTS ~~~\")\n",
    "score_test(reggae_test_data, reggae_test_mfcc)"
   ]
  },
  {
   "cell_type": "code",
   "execution_count": 31,
   "metadata": {},
   "outputs": [
    {
     "name": "stdout",
     "output_type": "stream",
     "text": [
      "~~~ CLASSICAL RESULTS ~~~\n",
      "CLASSICAL = 50\n",
      "DISCO = 0\n",
      "METAL = 0\n",
      "POP = 0\n",
      "REGGAE = 0\n",
      "\n",
      "~~~ DISCO RESULTS ~~~\n",
      "CLASSICAL = 0\n",
      "DISCO = 45\n",
      "METAL = 0\n",
      "POP = 5\n",
      "REGGAE = 0\n",
      "\n",
      "~~~ METAL RESULTS ~~~\n",
      "CLASSICAL = 0\n",
      "DISCO = 1\n",
      "METAL = 48\n",
      "POP = 1\n",
      "REGGAE = 0\n",
      "\n",
      "~~~ POP RESULTS ~~~\n",
      "CLASSICAL = 0\n",
      "DISCO = 0\n",
      "METAL = 0\n",
      "POP = 49\n",
      "REGGAE = 1\n",
      "\n",
      "~~~ REGGAE RESULTS ~~~\n",
      "CLASSICAL = 0\n",
      "DISCO = 1\n",
      "METAL = 0\n",
      "POP = 2\n",
      "REGGAE = 47\n",
      "\n"
     ]
    }
   ],
   "source": [
    "# RESULTS FOR THE TRAIN DATA\n",
    "print(\"~~~ CLASSICAL RESULTS ~~~\")\n",
    "score_test(classical_train_data, classical_train_mfcc)\n",
    "print(\"~~~ DISCO RESULTS ~~~\")\n",
    "score_test(disco_train_data, disco_train_mfcc)\n",
    "print(\"~~~ METAL RESULTS ~~~\")\n",
    "score_test(metal_train_data, metal_train_mfcc)\n",
    "print(\"~~~ POP RESULTS ~~~\")\n",
    "score_test(pop_train_data, pop_train_mfcc)\n",
    "print(\"~~~ REGGAE RESULTS ~~~\")\n",
    "score_test(reggae_train_data, reggae_train_mfcc)"
   ]
  },
  {
   "cell_type": "code",
   "execution_count": 32,
   "metadata": {},
   "outputs": [],
   "source": [
    "### --- NOTES --- ###\n",
    "\n",
    "## WITH 1 GAUSSIAN:\n",
    "# classical, metal, pop... accuracy=90%\n",
    "# disco is misclassified about 50% of time, usually to pop or metal\n",
    "# reggae is missclassified about 30-40% of time, equally to other genres \n",
    "\n",
    "## WITH 2 GAUSSIANS:\n",
    "# reggae sees the most noticeable increase to about 80%\n",
    "# this may suggest reggae has two fairly distinct subclasses within it\n",
    "\n",
    "## WITH 3 GAUSSIANS:\n",
    "# slight bump to reggae and disco\n",
    "# classical sometimes scores perfect\n",
    "\n",
    "## WITH 7 GAUSSIANS:\n",
    "# things start to flatten out... the best tests are getting worse and the worse tests are getting a little better, if at all\n",
    "\n",
    "## WITH 15 GUASSIANS:\n",
    "# this seems to be the best!\n",
    "# training data significantly outperforms test data... makes sense since each song has a strong direct influence on the gaussians created\n",
    "\n",
    "## TRAIN VS TEST DATA:\n",
    "# sees about the same accuracy\n",
    "# classes with a high test data accuracy see a slight bump in train data accuracy\n",
    "\n",
    "## MFCC PARAMETERS\n",
    "# not noticing much difference when increasing n_mfcc past 20\n",
    "# going too low reduces accuracy"
   ]
  },
  {
   "cell_type": "markdown",
   "metadata": {
    "deletable": false,
    "editable": false,
    "nbgrader": {
     "cell_type": "markdown",
     "checksum": "ed704c16a51ce2ee6a7765a36b0bcc1d",
     "grade": false,
     "grade_id": "cell-0366f48ef1511eb0",
     "locked": true,
     "schema_version": 3,
     "solution": false,
     "task": false
    }
   },
   "source": [
    "## Part 3: Make it better (extra credit, required for 4-hour registrants)"
   ]
  },
  {
   "cell_type": "markdown",
   "metadata": {
    "deletable": false,
    "editable": false,
    "nbgrader": {
     "cell_type": "markdown",
     "checksum": "b5c3fcfa38c9061e0c3c36080310de8f",
     "grade": false,
     "grade_id": "cell-ee7356244c540bcc",
     "locked": true,
     "schema_version": 3,
     "solution": false,
     "task": false
    }
   },
   "source": [
    "There is no shortage of techniques (and free code) to use for classification. Revisit the two problems above and use any other type of classifier you want (Neural Nets, Boosting, Decision Trees, whatever). Also feel free to use any feature you want. Can you improve on the results you got before? How much higher can you get your accuracy for either case?"
   ]
  },
  {
   "cell_type": "code",
   "execution_count": 33,
   "metadata": {
    "deletable": false,
    "nbgrader": {
     "cell_type": "code",
     "checksum": "d6ce280f53f8d615656d2c91be53d297",
     "grade": true,
     "grade_id": "cell-b5bfb3525df0e1de",
     "locked": false,
     "points": 3,
     "schema_version": 3,
     "solution": true,
     "task": false
    }
   },
   "outputs": [
    {
     "ename": "NotImplementedError",
     "evalue": "",
     "output_type": "error",
     "traceback": [
      "\u001b[1;31m---------------------------------------------------------------------------\u001b[0m",
      "\u001b[1;31mNotImplementedError\u001b[0m                       Traceback (most recent call last)",
      "\u001b[1;32m<ipython-input-33-15b94d1fa268>\u001b[0m in \u001b[0;36m<module>\u001b[1;34m\u001b[0m\n\u001b[0;32m      1\u001b[0m \u001b[1;31m# YOUR CODE HERE\u001b[0m\u001b[1;33m\u001b[0m\u001b[1;33m\u001b[0m\u001b[0m\n\u001b[1;32m----> 2\u001b[1;33m \u001b[1;32mraise\u001b[0m \u001b[0mNotImplementedError\u001b[0m\u001b[1;33m(\u001b[0m\u001b[1;33m)\u001b[0m\u001b[1;33m\u001b[0m\u001b[0m\n\u001b[0m",
      "\u001b[1;31mNotImplementedError\u001b[0m: "
     ]
    }
   ],
   "source": [
    "# YOUR CODE HERE\n",
    "raise NotImplementedError()"
   ]
  }
 ],
 "metadata": {
  "kernelspec": {
   "display_name": "Python 3",
   "language": "python",
   "name": "python3"
  },
  "language_info": {
   "codemirror_mode": {
    "name": "ipython",
    "version": 3
   },
   "file_extension": ".py",
   "mimetype": "text/x-python",
   "name": "python",
   "nbconvert_exporter": "python",
   "pygments_lexer": "ipython3",
   "version": "3.7.0"
  }
 },
 "nbformat": 4,
 "nbformat_minor": 2
}
